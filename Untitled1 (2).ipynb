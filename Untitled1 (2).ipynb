{
 "cells": [
  {
   "cell_type": "code",
   "execution_count": 1,
   "id": "e8e38807-e1b3-43ee-a1a9-2e18d1817f7e",
   "metadata": {},
   "outputs": [
    {
     "name": "stdout",
     "output_type": "stream",
     "text": [
      "iboib\n"
     ]
    }
   ],
   "source": [
    "print(\"iboib\")"
   ]
  },
  {
   "cell_type": "markdown",
   "id": "2ab21876-b36e-4245-aae1-ee4fb4e7125d",
   "metadata": {},
   "source": [
    "Q1 . What's your name?"
   ]
  },
  {
   "cell_type": "markdown",
   "id": "f10aa8f2-7763-40fb-8550-44b372b14a2d",
   "metadata": {},
   "source": [
    "Ans: My name is simran"
   ]
  },
  {
   "cell_type": "code",
   "execution_count": null,
   "id": "c332992f-cd0f-47a9-8f95-da1ff99f2144",
   "metadata": {},
   "outputs": [],
   "source": []
  }
 ],
 "metadata": {
  "kernelspec": {
   "display_name": "Python 3 (ipykernel)",
   "language": "python",
   "name": "python3"
  },
  "language_info": {
   "codemirror_mode": {
    "name": "ipython",
    "version": 3
   },
   "file_extension": ".py",
   "mimetype": "text/x-python",
   "name": "python",
   "nbconvert_exporter": "python",
   "pygments_lexer": "ipython3",
   "version": "3.10.8"
  }
 },
 "nbformat": 4,
 "nbformat_minor": 5
}
